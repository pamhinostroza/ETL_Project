{
 "cells": [
  {
   "cell_type": "code",
   "execution_count": 1,
   "metadata": {},
   "outputs": [
    {
     "name": "stderr",
     "output_type": "stream",
     "text": [
      "C:\\Users\\marly\\Anaconda3\\lib\\site-packages\\ipykernel\\parentpoller.py:113: UserWarning: Parent poll failed.  If the frontend dies,\n",
      "                the kernel may be left running.  Please let us know\n",
      "                about your system (bitness, Python, etc.) at\n",
      "                ipython-dev@scipy.org\n",
      "  warnings.warn(\"\"\"Parent poll failed.  If the frontend dies,\n"
     ]
    }
   ],
   "source": [
    "import zillow\n",
    "import pprint\n"
   ]
  },
  {
   "cell_type": "code",
   "execution_count": null,
   "metadata": {},
   "outputs": [],
   "source": [
    "f __name__==\"__main__\":\n",
    "    key = \"\"\n",
    "    with open(\"./bin/config/zillow_key.conf\", 'r') as f:\n",
    "        key = f.readline().replace(\"\\n\", \"\")\n",
    "\n",
    "    address = \"3400 Pacific Ave., Marina Del Rey, CA\"\n",
    "    postal_code = \"90292\"\n",
    "\n",
    "    api = zillow.ValuationApi()\n",
    "    data = api.GetSearchResults(key, address, postal_code)\n",
    "\n",
    "    pp = pprint.PrettyPrinter(indent=4)\n",
    "    pp.pprint(data.get_dict())\n",
    "\n",
    "    detail_data = api.GetZEstimate(key, data.zpid)\n",
    "\n",
    "    comp_data = api.GetComps(key, data.zpid)\n",
    "\n",
    "    pp.pprint(comp_data['comps'][1].get_dict())\n",
    "\n",
    "    deep_results = api.GetDeepSearchResults(key, \"1920 1st Street South Apt 407, Minneapolis, MN\", \"55454\")\n",
    "    pp.pprint(deep_results.get_dict())"
   ]
  }
 ],
 "metadata": {
  "kernelspec": {
   "display_name": "Python [conda env:root]",
   "language": "python",
   "name": "conda-root-py"
  },
  "language_info": {
   "codemirror_mode": {
    "name": "ipython",
    "version": 3
   },
   "file_extension": ".py",
   "mimetype": "text/x-python",
   "name": "python",
   "nbconvert_exporter": "python",
   "pygments_lexer": "ipython3",
   "version": "3.8.3"
  }
 },
 "nbformat": 4,
 "nbformat_minor": 4
}
